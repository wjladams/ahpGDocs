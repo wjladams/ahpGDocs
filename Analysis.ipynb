{
 "cells": [
  {
   "cell_type": "markdown",
   "metadata": {
    "toc": true
   },
   "source": [
    "<h1>Table of Contents<span class=\"tocSkip\"></span></h1>\n",
    "<div class=\"toc\"><ul class=\"toc-item\"><li><span><a href=\"#Introduction\" data-toc-modified-id=\"Introduction-1\"><span class=\"toc-item-num\">1&nbsp;&nbsp;</span>Introduction</a></span><ul class=\"toc-item\"><li><span><a href=\"#Install-and-load-necessary-libraries\" data-toc-modified-id=\"Install-and-load-necessary-libraries-1.1\"><span class=\"toc-item-num\">1.1&nbsp;&nbsp;</span>Install and load necessary libraries</a></span></li></ul></li><li><span><a href=\"#Create-our-AHP-Tree\" data-toc-modified-id=\"Create-our-AHP-Tree-2\"><span class=\"toc-item-num\">2&nbsp;&nbsp;</span>Create our AHP Tree</a></span></li><li><span><a href=\"#Some-basic-analysis\" data-toc-modified-id=\"Some-basic-analysis-3\"><span class=\"toc-item-num\">3&nbsp;&nbsp;</span>Some basic analysis</a></span></li></ul></div>"
   ]
  },
  {
   "cell_type": "markdown",
   "metadata": {},
   "source": [
    "# Introduction"
   ]
  },
  {
   "cell_type": "markdown",
   "metadata": {},
   "source": [
    "This [Jupyter](https://jupyter.org) notebook performs the analysis of Dr. Bill Adams' and Dr. Jay Stryker consumer choice AHP model for cell phones (see [github.com/wjladams/consumerAHP](https://github.com/wjladams/consumerAHP))"
   ]
  },
  {
   "cell_type": "markdown",
   "metadata": {},
   "source": [
    "## Install and load necessary libraries"
   ]
  },
  {
   "cell_type": "code",
   "execution_count": 1,
   "metadata": {},
   "outputs": [
    {
     "name": "stdout",
     "output_type": "stream",
     "text": [
      "Requirement already satisfied: pyanp in /home/wjadams/anaconda3/lib/python3.7/site-packages (0.3.1)\n",
      "Requirement already satisfied: pandas in /home/wjadams/anaconda3/lib/python3.7/site-packages (from pyanp) (0.23.4)\n",
      "Requirement already satisfied: numpy in /home/wjadams/anaconda3/lib/python3.7/site-packages (from pyanp) (1.17.2)\n",
      "Requirement already satisfied: python-dateutil>=2.5.0 in /home/wjadams/anaconda3/lib/python3.7/site-packages (from pandas->pyanp) (2.8.0)\n",
      "Requirement already satisfied: pytz>=2011k in /home/wjadams/anaconda3/lib/python3.7/site-packages (from pandas->pyanp) (2019.3)\n",
      "Requirement already satisfied: six>=1.5 in /home/wjadams/anaconda3/lib/python3.7/site-packages (from python-dateutil>=2.5.0->pandas->pyanp) (1.12.0)\n",
      "Note: you may need to restart the kernel to use updated packages.\n"
     ]
    }
   ],
   "source": [
    "%pip install pyanp"
   ]
  },
  {
   "cell_type": "code",
   "execution_count": 21,
   "metadata": {},
   "outputs": [],
   "source": [
    "from pyanp import ahptree\n",
    "import numpy as np\n",
    "import pandas as pd\n",
    "import re\n",
    "from copy import deepcopy\n",
    "from helpers import *\n",
    "import matplotlib.pyplot as plt"
   ]
  },
  {
   "cell_type": "code",
   "execution_count": 22,
   "metadata": {},
   "outputs": [],
   "source": [
    "%matplotlib inline"
   ]
  },
  {
   "cell_type": "code",
   "execution_count": 23,
   "metadata": {},
   "outputs": [],
   "source": [
    "plt.rcParams[\"figure.figsize\"] = (12,7)"
   ]
  },
  {
   "cell_type": "markdown",
   "metadata": {},
   "source": [
    "# Create our AHP Tree"
   ]
  },
  {
   "cell_type": "code",
   "execution_count": 13,
   "metadata": {},
   "outputs": [
    {
     "data": {
      "text/html": [
       "<div>\n",
       "<style scoped>\n",
       "    .dataframe tbody tr th:only-of-type {\n",
       "        vertical-align: middle;\n",
       "    }\n",
       "\n",
       "    .dataframe tbody tr th {\n",
       "        vertical-align: top;\n",
       "    }\n",
       "\n",
       "    .dataframe thead th {\n",
       "        text-align: right;\n",
       "    }\n",
       "</style>\n",
       "<table border=\"1\" class=\"dataframe\">\n",
       "  <thead>\n",
       "    <tr style=\"text-align: right;\">\n",
       "      <th></th>\n",
       "      <th>Timestamp</th>\n",
       "      <th>Considering: Cost versus Style</th>\n",
       "      <th>Considering: Functionality versus Style</th>\n",
       "      <th>Considering: Cost versus Functionality</th>\n",
       "      <th>Considering: Photography versus Gaming</th>\n",
       "      <th>Considering: Gaming versus Storage</th>\n",
       "      <th>Considering: Photography versus Storage</th>\n",
       "      <th>Galaxy S8 wrt Cost</th>\n",
       "      <th>Galaxy S10 wrt Cost</th>\n",
       "      <th>iPhone X wrt Cost</th>\n",
       "      <th>...</th>\n",
       "      <th>iPhone X wrt Style</th>\n",
       "      <th>Galaxy S8 wrt Photography</th>\n",
       "      <th>Galaxy S10 wrt Photography</th>\n",
       "      <th>iPhone X wrt Photography</th>\n",
       "      <th>Galaxy S8 wrt Gaming</th>\n",
       "      <th>Galaxy S10 wrt Gaming</th>\n",
       "      <th>iPhone X wrt Gaming</th>\n",
       "      <th>Galaxy S8 wrt Storage</th>\n",
       "      <th>Galaxy S10 wrt Storage</th>\n",
       "      <th>iPhone X wrt Storage</th>\n",
       "    </tr>\n",
       "  </thead>\n",
       "  <tbody>\n",
       "    <tr>\n",
       "      <th>0</th>\n",
       "      <td>3/14/2020 22:41:30</td>\n",
       "      <td>NaN</td>\n",
       "      <td>NaN</td>\n",
       "      <td>NaN</td>\n",
       "      <td>NaN</td>\n",
       "      <td>NaN</td>\n",
       "      <td>NaN</td>\n",
       "      <td>0.75</td>\n",
       "      <td>0.1</td>\n",
       "      <td>0.1</td>\n",
       "      <td>...</td>\n",
       "      <td>1.0</td>\n",
       "      <td>0.2</td>\n",
       "      <td>0.5</td>\n",
       "      <td>1.0</td>\n",
       "      <td>0.5</td>\n",
       "      <td>1.0</td>\n",
       "      <td>0.75</td>\n",
       "      <td>0.5</td>\n",
       "      <td>1.0</td>\n",
       "      <td>0.85</td>\n",
       "    </tr>\n",
       "    <tr>\n",
       "      <th>1</th>\n",
       "      <td>3/14/2020 22:41:31</td>\n",
       "      <td>Cost is much more important</td>\n",
       "      <td>Functionality is much more important</td>\n",
       "      <td>Cost is more important</td>\n",
       "      <td>Photography is much more important</td>\n",
       "      <td>Storage is much more important</td>\n",
       "      <td>Photography is more important</td>\n",
       "      <td>NaN</td>\n",
       "      <td>NaN</td>\n",
       "      <td>NaN</td>\n",
       "      <td>...</td>\n",
       "      <td>NaN</td>\n",
       "      <td>NaN</td>\n",
       "      <td>NaN</td>\n",
       "      <td>NaN</td>\n",
       "      <td>NaN</td>\n",
       "      <td>NaN</td>\n",
       "      <td>NaN</td>\n",
       "      <td>NaN</td>\n",
       "      <td>NaN</td>\n",
       "      <td>NaN</td>\n",
       "    </tr>\n",
       "  </tbody>\n",
       "</table>\n",
       "<p>2 rows × 22 columns</p>\n",
       "</div>"
      ],
      "text/plain": [
       "            Timestamp Considering: Cost versus Style  \\\n",
       "0  3/14/2020 22:41:30                            NaN   \n",
       "1  3/14/2020 22:41:31    Cost is much more important   \n",
       "\n",
       "  Considering: Functionality versus Style  \\\n",
       "0                                     NaN   \n",
       "1    Functionality is much more important   \n",
       "\n",
       "  Considering: Cost versus Functionality  \\\n",
       "0                                    NaN   \n",
       "1                 Cost is more important   \n",
       "\n",
       "  Considering: Photography versus Gaming Considering: Gaming versus Storage  \\\n",
       "0                                    NaN                                NaN   \n",
       "1     Photography is much more important     Storage is much more important   \n",
       "\n",
       "  Considering: Photography versus Storage  Galaxy S8 wrt Cost  \\\n",
       "0                                     NaN                0.75   \n",
       "1           Photography is more important                 NaN   \n",
       "\n",
       "   Galaxy S10 wrt Cost  iPhone X wrt Cost          ...           \\\n",
       "0                  0.1                0.1          ...            \n",
       "1                  NaN                NaN          ...            \n",
       "\n",
       "   iPhone X wrt Style  Galaxy S8 wrt Photography  Galaxy S10 wrt Photography  \\\n",
       "0                 1.0                        0.2                         0.5   \n",
       "1                 NaN                        NaN                         NaN   \n",
       "\n",
       "   iPhone X wrt Photography  Galaxy S8 wrt Gaming  Galaxy S10 wrt Gaming  \\\n",
       "0                       1.0                   0.5                    1.0   \n",
       "1                       NaN                   NaN                    NaN   \n",
       "\n",
       "   iPhone X wrt Gaming  Galaxy S8 wrt Storage  Galaxy S10 wrt Storage  \\\n",
       "0                 0.75                    0.5                     1.0   \n",
       "1                  NaN                    NaN                     NaN   \n",
       "\n",
       "   iPhone X wrt Storage  \n",
       "0                  0.85  \n",
       "1                   NaN  \n",
       "\n",
       "[2 rows x 22 columns]"
      ]
     },
     "execution_count": 13,
     "metadata": {},
     "output_type": "execute_result"
    }
   ],
   "source": [
    "from io import BytesIO\n",
    "\n",
    "import requests\n",
    "r = requests.get('https://docs.google.com/spreadsheet/ccc?key=1jxuBHUYA8Jy5iSRx2PZ7lNg0Ag2gf-cC63LoCCru-j4&output=csv')\n",
    "data = r.content\n",
    "df = pd.read_csv(BytesIO(data))\n",
    "df.tail()"
   ]
  },
  {
   "cell_type": "markdown",
   "metadata": {},
   "source": [
    "* We need to rename some columns for compatibility with pyanp\n",
    "* also need to convert the votes"
   ]
  },
  {
   "cell_type": "code",
   "execution_count": 14,
   "metadata": {},
   "outputs": [
    {
     "data": {
      "text/html": [
       "<div>\n",
       "<style scoped>\n",
       "    .dataframe tbody tr th:only-of-type {\n",
       "        vertical-align: middle;\n",
       "    }\n",
       "\n",
       "    .dataframe tbody tr th {\n",
       "        vertical-align: top;\n",
       "    }\n",
       "\n",
       "    .dataframe thead th {\n",
       "        text-align: right;\n",
       "    }\n",
       "</style>\n",
       "<table border=\"1\" class=\"dataframe\">\n",
       "  <thead>\n",
       "    <tr style=\"text-align: right;\">\n",
       "      <th></th>\n",
       "      <th>Timestamp</th>\n",
       "      <th>Cost vs Style</th>\n",
       "      <th>Functionality vs Style</th>\n",
       "      <th>Cost vs Functionality</th>\n",
       "      <th>Photography vs Gaming wrt Functionality</th>\n",
       "      <th>Gaming vs Storage wrt Functionality</th>\n",
       "      <th>Photography vs Storage wrt Functionality</th>\n",
       "      <th>Galaxy S8 wrt Cost</th>\n",
       "      <th>Galaxy S10 wrt Cost</th>\n",
       "      <th>iPhone X wrt Cost</th>\n",
       "      <th>...</th>\n",
       "      <th>iPhone X wrt Style</th>\n",
       "      <th>Galaxy S8 wrt Photography</th>\n",
       "      <th>Galaxy S10 wrt Photography</th>\n",
       "      <th>iPhone X wrt Photography</th>\n",
       "      <th>Galaxy S8 wrt Gaming</th>\n",
       "      <th>Galaxy S10 wrt Gaming</th>\n",
       "      <th>iPhone X wrt Gaming</th>\n",
       "      <th>Galaxy S8 wrt Storage</th>\n",
       "      <th>Galaxy S10 wrt Storage</th>\n",
       "      <th>iPhone X wrt Storage</th>\n",
       "    </tr>\n",
       "  </thead>\n",
       "  <tbody>\n",
       "    <tr>\n",
       "      <th>0</th>\n",
       "      <td>3/14/2020 22:41:30</td>\n",
       "      <td>NaN</td>\n",
       "      <td>NaN</td>\n",
       "      <td>NaN</td>\n",
       "      <td>NaN</td>\n",
       "      <td>NaN</td>\n",
       "      <td>NaN</td>\n",
       "      <td>0.75</td>\n",
       "      <td>0.1</td>\n",
       "      <td>0.1</td>\n",
       "      <td>...</td>\n",
       "      <td>1.0</td>\n",
       "      <td>0.2</td>\n",
       "      <td>0.5</td>\n",
       "      <td>1.0</td>\n",
       "      <td>0.5</td>\n",
       "      <td>1.0</td>\n",
       "      <td>0.75</td>\n",
       "      <td>0.5</td>\n",
       "      <td>1.0</td>\n",
       "      <td>0.85</td>\n",
       "    </tr>\n",
       "    <tr>\n",
       "      <th>1</th>\n",
       "      <td>3/14/2020 22:41:31</td>\n",
       "      <td>5</td>\n",
       "      <td>5</td>\n",
       "      <td>2</td>\n",
       "      <td>5</td>\n",
       "      <td>0.2</td>\n",
       "      <td>2</td>\n",
       "      <td>NaN</td>\n",
       "      <td>NaN</td>\n",
       "      <td>NaN</td>\n",
       "      <td>...</td>\n",
       "      <td>NaN</td>\n",
       "      <td>NaN</td>\n",
       "      <td>NaN</td>\n",
       "      <td>NaN</td>\n",
       "      <td>NaN</td>\n",
       "      <td>NaN</td>\n",
       "      <td>NaN</td>\n",
       "      <td>NaN</td>\n",
       "      <td>NaN</td>\n",
       "      <td>NaN</td>\n",
       "    </tr>\n",
       "  </tbody>\n",
       "</table>\n",
       "<p>2 rows × 22 columns</p>\n",
       "</div>"
      ],
      "text/plain": [
       "            Timestamp Cost vs Style Functionality vs Style  \\\n",
       "0  3/14/2020 22:41:30           NaN                    NaN   \n",
       "1  3/14/2020 22:41:31             5                      5   \n",
       "\n",
       "  Cost vs Functionality Photography vs Gaming wrt Functionality  \\\n",
       "0                   NaN                                     NaN   \n",
       "1                     2                                       5   \n",
       "\n",
       "  Gaming vs Storage wrt Functionality  \\\n",
       "0                                 NaN   \n",
       "1                                 0.2   \n",
       "\n",
       "  Photography vs Storage wrt Functionality  Galaxy S8 wrt Cost  \\\n",
       "0                                      NaN                0.75   \n",
       "1                                        2                 NaN   \n",
       "\n",
       "   Galaxy S10 wrt Cost  iPhone X wrt Cost          ...           \\\n",
       "0                  0.1                0.1          ...            \n",
       "1                  NaN                NaN          ...            \n",
       "\n",
       "   iPhone X wrt Style  Galaxy S8 wrt Photography  Galaxy S10 wrt Photography  \\\n",
       "0                 1.0                        0.2                         0.5   \n",
       "1                 NaN                        NaN                         NaN   \n",
       "\n",
       "   iPhone X wrt Photography  Galaxy S8 wrt Gaming  Galaxy S10 wrt Gaming  \\\n",
       "0                       1.0                   0.5                    1.0   \n",
       "1                       NaN                   NaN                    NaN   \n",
       "\n",
       "   iPhone X wrt Gaming  Galaxy S8 wrt Storage  Galaxy S10 wrt Storage  \\\n",
       "0                 0.75                    0.5                     1.0   \n",
       "1                  NaN                    NaN                     NaN   \n",
       "\n",
       "   iPhone X wrt Storage  \n",
       "0                  0.85  \n",
       "1                   NaN  \n",
       "\n",
       "[2 rows x 22 columns]"
      ]
     },
     "execution_count": 14,
     "metadata": {},
     "output_type": "execute_result"
    }
   ],
   "source": [
    "df.rename(columns = {\n",
    "    'Considering: Cost versus Style' : 'Cost vs Style',\n",
    "    'Considering: Functionality versus Style' : 'Functionality vs Style',\n",
    "    'Considering: Cost versus Functionality' : 'Cost vs Functionality',\n",
    "    'Considering: Photography versus Gaming' : 'Photography vs Gaming wrt Functionality',\n",
    "    'Considering: Gaming versus Storage' : 'Gaming vs Storage wrt Functionality',\n",
    "    'Considering: Photography versus Storage' : 'Photography vs Storage wrt Functionality'\n",
    "}, inplace=True)\n",
    "for col in df.columns:\n",
    "    if re.search(r'\\s+vs\\s+',col):\n",
    "        df[col] = betterScaleDataToNumeric(col, df[col])\n",
    "df"
   ]
  },
  {
   "cell_type": "code",
   "execution_count": 16,
   "metadata": {},
   "outputs": [
    {
     "data": {
      "text/html": [
       "<ul>\n",
       "\t<li><b>Node:</b>Goal\n",
       "\t\t<ul>\n",
       "\t\t\t<li>1\n",
       "\t\t\t[[1.  5.  2. ]\n",
       "\t\t\t [0.2 1.  0.2]\n",
       "\t\t\t [0.5 5.  1. ]]\n",
       "\t\t</ul>\t<ul>\n",
       "\t\t<li><b>Node:</b>Cost\n",
       "\t\t\t<ul><li>AltScores=\n",
       "\t\t\t\tGalaxy S8     0.75\n",
       "\t\t\t\tGalaxy S10    0.10\n",
       "\t\t\t\tiPhone X      0.10\n",
       "\t\t\t\tdtype: float64\n",
       "\t\t\t</ul>\n",
       "\t\t<li><b>Node:</b>Style\n",
       "\t\t\t<ul><li>AltScores=\n",
       "\t\t\t\tGalaxy S8     0.5\n",
       "\t\t\t\tGalaxy S10    0.8\n",
       "\t\t\t\tiPhone X      1.0\n",
       "\t\t\t\tdtype: float64\n",
       "\t\t\t</ul>\n",
       "\t\t<li><b>Node:</b>Functionality\n",
       "\t\t\t<ul>\n",
       "\t\t\t\t<li>1\n",
       "\t\t\t\t[[1.  5.  2. ]\n",
       "\t\t\t\t [0.2 1.  0.2]\n",
       "\t\t\t\t [0.5 5.  1. ]]\n",
       "\t\t\t</ul>\t\t<ul>\n",
       "\t\t\t<li><b>Node:</b>Photography\n",
       "\t\t\t\t<ul><li>AltScores=\n",
       "\t\t\t\t\tGalaxy S8     0.2\n",
       "\t\t\t\t\tGalaxy S10    0.5\n",
       "\t\t\t\t\tiPhone X      1.0\n",
       "\t\t\t\t\tdtype: float64\n",
       "\t\t\t\t</ul>\n",
       "\t\t\t<li><b>Node:</b>Gaming\n",
       "\t\t\t\t<ul><li>AltScores=\n",
       "\t\t\t\t\tGalaxy S8     0.50\n",
       "\t\t\t\t\tGalaxy S10    1.00\n",
       "\t\t\t\t\tiPhone X      0.75\n",
       "\t\t\t\t\tdtype: float64\n",
       "\t\t\t\t</ul>\n",
       "\t\t\t<li><b>Node:</b>Storage\n",
       "\t\t\t\t<ul><li>AltScores=\n",
       "\t\t\t\t\tGalaxy S8     0.50\n",
       "\t\t\t\t\tGalaxy S10    1.00\n",
       "\t\t\t\t\tiPhone X      0.85\n",
       "\t\t\t\t\tdtype: float64\n",
       "\t\t\t\t</ul>\n",
       "</ul>\n",
       "</ul>\n",
       "\n",
       "</ul>"
      ],
      "text/plain": [
       "<pyanp.ahptree.AHPTree at 0x7f92e83493d0>"
      ]
     },
     "execution_count": 16,
     "metadata": {},
     "output_type": "execute_result"
    }
   ],
   "source": [
    "ahp = ahptree.ahptree_fromdf(df)\n",
    "ahp"
   ]
  },
  {
   "cell_type": "markdown",
   "metadata": {},
   "source": [
    "# Some basic analysis"
   ]
  },
  {
   "cell_type": "code",
   "execution_count": 24,
   "metadata": {},
   "outputs": [
    {
     "data": {
      "text/plain": [
       "<matplotlib.axes._subplots.AxesSubplot at 0x7f92e82f6e50>"
      ]
     },
     "execution_count": 24,
     "metadata": {},
     "output_type": "execute_result"
    },
    {
     "data": {
      "image/png": "[encoded data removed]",
      "text/plain": [
       "<Figure size 864x504 with 1 Axes>"
      ]
     },
     "metadata": {
      "needs_background": "light"
     },
     "output_type": "display_data"
    }
   ],
   "source": [
    "altscores = ahp.priority_table()\n",
    "altscores.plot(kind=\"bar\")"
   ]
  },
  {
   "cell_type": "code",
   "execution_count": null,
   "metadata": {},
   "outputs": [],
   "source": []
  }
 ],
 "metadata": {
  "kernelspec": {
   "display_name": "Python 3",
   "language": "python",
   "name": "python3"
  },
  "language_info": {
   "codemirror_mode": {
    "name": "ipython",
    "version": 3
   },
   "file_extension": ".py",
   "mimetype": "text/x-python",
   "name": "python",
   "nbconvert_exporter": "python",
   "pygments_lexer": "ipython3",
   "version": "3.7.5"
  },
  "toc": {
   "base_numbering": 1,
   "nav_menu": {},
   "number_sections": true,
   "sideBar": true,
   "skip_h1_title": false,
   "title_cell": "Table of Contents",
   "title_sidebar": "Contents",
   "toc_cell": true,
   "toc_position": {},
   "toc_section_display": true,
   "toc_window_display": false
  }
 },
 "nbformat": 4,
 "nbformat_minor": 2
}
